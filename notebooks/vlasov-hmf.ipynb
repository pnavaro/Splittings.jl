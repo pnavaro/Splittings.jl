{
 "cells": [
  {
   "outputs": [],
   "cell_type": "markdown",
   "source": [
    "# Vlasov-HMF"
   ],
   "metadata": {}
  },
  {
   "outputs": [
    {
     "output_type": "execute_result",
     "data": {
      "text/plain": "Plots.PyPlotBackend()"
     },
     "metadata": {},
     "execution_count": 1
    }
   ],
   "cell_type": "code",
   "source": [
    "using LinearAlgebra, QuadGK, Roots, FFTW\n",
    "using Splittings\n",
    "using Plots\n",
    "pyplot()"
   ],
   "metadata": {},
   "execution_count": 1
  },
  {
   "outputs": [
    {
     "output_type": "execute_result",
     "data": {
      "text/plain": "Main.##434.mag"
     },
     "metadata": {},
     "execution_count": 2
    }
   ],
   "cell_type": "code",
   "source": [
    "\" Compute M₀ by solving F(m) = 0 \"\n",
    "function mag(β, mass)\n",
    "\n",
    "    F(m) = begin\n",
    "        g(x, n, m) = (1 / π) * (exp(β * m * cos(x)) * cos(n * x))\n",
    "        bessel0(x) = g(x, 0, m)\n",
    "        bessel1(x) = g(x, 1, m)\n",
    "        mass * quadgk(bessel1, 0, π)[1] / quadgk(bessel0, 0, π)[1] - m\n",
    "    end\n",
    "\n",
    "    find_zero(F, (0, mass))\n",
    "end"
   ],
   "metadata": {},
   "execution_count": 2
  },
  {
   "outputs": [
    {
     "output_type": "execute_result",
     "data": {
      "text/plain": "Norm (generic function with 1 method)"
     },
     "metadata": {},
     "execution_count": 3
    }
   ],
   "cell_type": "code",
   "source": [
    "function Norm(f::Array{Float64,2}, dx, dv)\n",
    "   return dx * sum(dv * sum(real(f), dims=1))\n",
    "end"
   ],
   "metadata": {},
   "execution_count": 3
  },
  {
   "outputs": [
    {
     "output_type": "execute_result",
     "data": {
      "text/plain": "Main.##434.hmf_poisson!"
     },
     "metadata": {},
     "execution_count": 4
    }
   ],
   "cell_type": "code",
   "source": [
    "\"\"\"\n",
    "    Compute the electric hamiltonian mean field from a\n",
    "    2D distribution function\n",
    "\"\"\"\n",
    "function hmf_poisson!(fᵗ::Array{Complex{Float64},2},\n",
    "        meshx::UniformMesh,\n",
    "        meshv::UniformMesh,\n",
    "        ex::Array{Float64})\n",
    "\n",
    "    nx = meshx.length\n",
    "    rho = meshv.step .* vec(sum(fᵗ, dims=1))\n",
    "    kernel = zeros(Float64, nx)\n",
    "    k = π / (meshx.stop - meshx.start)\n",
    "    kernel[2] = k\n",
    "    ex .= real(ifft(1im * fft(rho) .* kernel * 4π ))\n",
    "\n",
    "end"
   ],
   "metadata": {},
   "execution_count": 4
  },
  {
   "outputs": [
    {
     "output_type": "execute_result",
     "data": {
      "text/plain": "bsl_advection! (generic function with 1 method)"
     },
     "metadata": {},
     "execution_count": 5
    }
   ],
   "cell_type": "code",
   "source": [
    "function bsl_advection!(f::Array{Complex{Float64},2},\n",
    "                        meshx::UniformMesh,\n",
    "                        meshv::UniformMesh,\n",
    "                        v::Array{Float64,1},\n",
    "                        dt;\n",
    "                        spline_degree=3)\n",
    "\n",
    "    fft!(f,1)\n",
    "    @simd for j in 1:meshv.length\n",
    "        alpha = v[j] * dt\n",
    "        @inbounds f[:,j] .= Splittings.interpolate(spline_degree, f[:,j],\n",
    "            meshx.step, alpha)\n",
    "    end\n",
    "    ifft!(f,1)\n",
    "end"
   ],
   "metadata": {},
   "execution_count": 5
  },
  {
   "outputs": [
    {
     "output_type": "execute_result",
     "data": {
      "text/plain": "push_v! (generic function with 1 method)"
     },
     "metadata": {},
     "execution_count": 6
    }
   ],
   "cell_type": "code",
   "source": [
    "function push_v!(f, fᵗ, meshx, meshv, ex, dt)\n",
    "    transpose!(fᵗ, f)\n",
    "    hmf_poisson!(fᵗ, meshx, meshv, ex)\n",
    "    bsl_advection!(fᵗ, meshv, meshx, ex, dt)\n",
    "    transpose!(f, fᵗ)\n",
    "end"
   ],
   "metadata": {},
   "execution_count": 6
  },
  {
   "outputs": [
    {
     "output_type": "execute_result",
     "data": {
      "text/plain": "vlasov_hmf_gauss (generic function with 3 methods)"
     },
     "metadata": {},
     "execution_count": 7
    }
   ],
   "cell_type": "code",
   "source": [
    "function vlasov_hmf_gauss(nbiter = 10000, dt = 0.1)\n",
    "\n",
    "    mass = 1.0\n",
    "    T = 0.1\n",
    "    meshx = UniformMesh(-π, π, 64)\n",
    "    meshv = UniformMesh(-8, 8, 64)\n",
    "\n",
    "    nx, dx = meshx.length, meshx.step\n",
    "    nv, dv = meshv.length, meshv.step\n",
    "    x, v = meshx.points, meshv.points\n",
    "    X = repeat(x,1,nv)\n",
    "    V = repeat(v,1,nx)'\n",
    "    ϵ = 0.1\n",
    "\n",
    "    b = 1 / T\n",
    "    m = mag(b, mass)\n",
    "\n",
    "    w   = sqrt(m)\n",
    "    f   = zeros(Complex{Float64}, (nx,nv))\n",
    "    fᵗ  = zeros(Complex{Float64}, (nv,nx))\n",
    "\n",
    "    f  .= exp.(-b .* ((V.^2 / 2) - m * cos.(X)))\n",
    "    a   = mass / Norm(real(f), dx, dv)\n",
    "    @.  f =  a * exp(-b * (((V^2) / 2) - m * cos(X))) * (1 + ϵ * cos(X))\n",
    "\n",
    "    ex = zeros(Float64,nx)\n",
    "    hmf_poisson!(f, meshx, meshv, ex )\n",
    "    test = copy(f)\n",
    "    T = Float64[]\n",
    "    for n in 1:nbiter\n",
    "\n",
    "        gamma1 = Norm(real(f) .* cos.(X), dx, dv)\n",
    "        push!(T,gamma1)\n",
    "\n",
    "        @Strang(\n",
    "            bsl_advection!(f, meshx, meshv, v, dt),\n",
    "            push_v!(f, fᵗ, meshx, meshv, ex, dt)\n",
    "        )\n",
    "\n",
    "    end\n",
    "\n",
    "    #Substracting from gamma its long time average\n",
    "\n",
    "    Gamma1 = Norm(real(f) .*cos.(X), dx, dv)\n",
    "    T .= T .- Gamma1\n",
    "\n",
    "    range(0., stop=nbiter*deltat, length=nbiter), abs.(T)\n",
    "\n",
    "end"
   ],
   "metadata": {},
   "execution_count": 7
  },
  {
   "outputs": [
    {
     "name": "stdout",
     "output_type": "stream",
     "text": [
      "  7.027392 seconds (14.06 M allocations: 2.826 GiB, 7.37% gc time)\n"
     ]
    }
   ],
   "cell_type": "code",
   "source": [
    "nbiter = 2000\n",
    "deltat = 0.1\n",
    "@time t, T = vlasov_hmf_gauss(nbiter, deltat);\n",
    "plot(t, log.(T), xlabel = \"t\", ylabel = \"|C[f](t)-C[f][T]|\")\n",
    "savefig(\"vlasov-hmf-plot.png\"); nothing # hide"
   ],
   "metadata": {},
   "execution_count": 8
  },
  {
   "outputs": [],
   "cell_type": "markdown",
   "source": [
    "*This notebook was generated using [Literate.jl](https://github.com/fredrikekre/Literate.jl).*"
   ],
   "metadata": {}
  }
 ],
 "nbformat_minor": 3,
 "metadata": {
  "language_info": {
   "file_extension": ".jl",
   "mimetype": "application/julia",
   "name": "julia",
   "version": "1.0.1"
  },
  "kernelspec": {
   "name": "julia-1.0",
   "display_name": "Julia 1.0.1",
   "language": "julia"
  }
 },
 "nbformat": 4
}
