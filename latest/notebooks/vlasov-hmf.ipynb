{
 "cells": [
  {
   "outputs": [],
   "cell_type": "markdown",
   "source": [
    "# Vlasov-HMF"
   ],
   "metadata": {}
  },
  {
   "outputs": [],
   "cell_type": "code",
   "source": [
    "using LinearAlgebra, QuadGK, Roots, FFTW\n",
    "using Splittings\n",
    "using Plots\n",
    "pyplot()"
   ],
   "metadata": {},
   "execution_count": null
  },
  {
   "outputs": [],
   "cell_type": "code",
   "source": [
    "\" Compute M₀ by solving F(m) = 0 \"\n",
    "function mag(β, mass)\n",
    "\n",
    "    F(m) = begin\n",
    "        g(x, n, m) = (1 / π) * (exp(β * m * cos(x)) * cos(n * x))\n",
    "        bessel0(x) = g(x, 0, m)\n",
    "        bessel1(x) = g(x, 1, m)\n",
    "        mass * quadgk(bessel1, 0, π)[1] / quadgk(bessel0, 0, π)[1] - m\n",
    "    end\n",
    "\n",
    "    find_zero(F, (0, mass))\n",
    "end"
   ],
   "metadata": {},
   "execution_count": null
  },
  {
   "outputs": [],
   "cell_type": "code",
   "source": [
    "function Norm(f::Array{Float64,2}, delta1, delta2)\n",
    "   return delta1 * sum(delta2 * sum(real(f), dims=1))\n",
    "end"
   ],
   "metadata": {},
   "execution_count": null
  },
  {
   "outputs": [],
   "cell_type": "code",
   "source": [
    "\"\"\"\n",
    "    Compute the electric hamiltonian mean field from a\n",
    "    2D distribution function\n",
    "\"\"\"\n",
    "function hmf_poisson!(fᵗ::Array{Complex{Float64},2},\n",
    "        mesh1::UniformMesh,\n",
    "        mesh2::UniformMesh,\n",
    "        ex::Array{Float64})\n",
    "\n",
    "    n1 = mesh1.length\n",
    "    rho = mesh2.step .* vec(sum(fᵗ, dims=1))\n",
    "    kernel = zeros(Float64, n1)\n",
    "    k = π / (mesh1.stop - mesh1.start)\n",
    "    kernel[2] = k\n",
    "    ex .= real(ifft(1im * fft(rho) .* kernel * 4π ))\n",
    "\n",
    "end"
   ],
   "metadata": {},
   "execution_count": null
  },
  {
   "outputs": [],
   "cell_type": "code",
   "source": [
    "function bsl_advection!(f::Array{Complex{Float64},2},\n",
    "                        mesh1::UniformMesh,\n",
    "                        mesh2::UniformMesh,\n",
    "                        v::Array{Float64,1},\n",
    "                        dt;\n",
    "                        spline_degree=3)\n",
    "\n",
    "    fft!(f,1)\n",
    "    @simd for j in 1:mesh2.length\n",
    "        alpha = v[j] * dt\n",
    "        @inbounds f[:,j] .= Splittings.interpolate(spline_degree, f[:,j],\n",
    "            mesh1.step, alpha)\n",
    "    end\n",
    "    ifft!(f,1)\n",
    "end"
   ],
   "metadata": {},
   "execution_count": null
  },
  {
   "outputs": [],
   "cell_type": "code",
   "source": [
    "function push_v!(f, fᵗ, mesh1, mesh2, ex, dt)\n",
    "    transpose!(fᵗ, f)\n",
    "    hmf_poisson!(fᵗ, mesh1, mesh2, ex)\n",
    "    bsl_advection!(fᵗ, mesh2, mesh1, ex, dt)\n",
    "    transpose!(f, fᵗ)\n",
    "end"
   ],
   "metadata": {},
   "execution_count": null
  },
  {
   "outputs": [],
   "cell_type": "code",
   "source": [
    "function vlasov_hmf_gauss(nbiter = 10000, dt = 0.1)\n",
    "\n",
    "    mass = 1.0\n",
    "    T = 0.1\n",
    "    mesh1 = UniformMesh(-π, π, 64)\n",
    "    mesh2 = UniformMesh(-8, 8, 64)\n",
    "\n",
    "    n1, delta1 = mesh1.length, mesh1.step\n",
    "    n2, delta2 = mesh2.length, mesh2.step\n",
    "    x, v = mesh1.points, mesh2.points\n",
    "    X = repeat(x,1,n2)\n",
    "    V = repeat(v,1,n1)'\n",
    "    ϵ = 0.1\n",
    "\n",
    "    b = 1 / T\n",
    "    m = mag(b, mass)\n",
    "\n",
    "    w   = sqrt(m)\n",
    "    f   = zeros(Complex{Float64}, (n1,n2))\n",
    "    fᵗ  = zeros(Complex{Float64}, (n2,n1))\n",
    "\n",
    "    f  .= exp.(-b .* ((V.^2 / 2) - m * cos.(X)))\n",
    "    a   = mass / Norm(real(f), delta1, delta2)\n",
    "    @.  f =  a * exp(-b * (((V^2) / 2) - m * cos(X))) * (1 + ϵ * cos(X))\n",
    "\n",
    "    ex = zeros(Float64,n1)\n",
    "    hmf_poisson!(f, mesh1, mesh2, ex )\n",
    "    test = copy(f)\n",
    "    T = Float64[]\n",
    "    for n in 1:nbiter\n",
    "\n",
    "        gamma1 = Norm(real(f) .* cos.(X), delta1, delta2)\n",
    "        push!(T,gamma1)\n",
    "\n",
    "        @Strang(\n",
    "            bsl_advection!(f, mesh1, mesh2, v, dt),\n",
    "            push_v!(f, fᵗ, mesh1, mesh2, ex, dt)\n",
    "        )\n",
    "\n",
    "    end\n",
    "\n",
    "    #Substracting from gamma its long time average\n",
    "\n",
    "    Gamma1 = Norm(real(f) .*cos.(X), delta1, delta2)\n",
    "    T .= T .- Gamma1\n",
    "\n",
    "    range(0., stop=nbiter*deltat, length=nbiter), abs.(T)\n",
    "\n",
    "end"
   ],
   "metadata": {},
   "execution_count": null
  },
  {
   "outputs": [],
   "cell_type": "code",
   "source": [
    "nbiter = 1000\n",
    "deltat = 0.1\n",
    "@time t, T = vlasov_hmf_gauss(nbiter, deltat);\n",
    "plot(t, log.(T), xlabel = \"t\", ylabel = \"|C[f](t)-C[f][T]|\")\n",
    "savefig(\"vlasov-hmf-plot.png\"); nothing # hide"
   ],
   "metadata": {},
   "execution_count": null
  },
  {
   "outputs": [],
   "cell_type": "markdown",
   "source": [
    "*This notebook was generated using [Literate.jl](https://github.com/fredrikekre/Literate.jl).*"
   ],
   "metadata": {}
  }
 ],
 "nbformat_minor": 3,
 "metadata": {
  "language_info": {
   "file_extension": ".jl",
   "mimetype": "application/julia",
   "name": "julia",
   "version": "1.0.1"
  },
  "kernelspec": {
   "name": "julia-1.0",
   "display_name": "Julia 1.0.1",
   "language": "julia"
  }
 },
 "nbformat": 4
}
