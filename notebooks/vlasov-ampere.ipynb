{
 "cells": [
  {
   "outputs": [],
   "cell_type": "markdown",
   "source": [
    "# Vlasov-Ampere\n",
    "\n",
    "\n",
    "Compute Landau damping by solving Vlasov-Ampere system.\n",
    "\n",
    "\\begin{equation}\n",
    " \\frac{∂f}{∂t} + υ \\frac{∂f}{∂x} - E(t,x) \\frac{∂f}{∂υ} = 0\n",
    "\\end{equation}\n",
    "\n",
    "\\begin{equation}\n",
    "\\frac{∂E}{∂t} = - J = ∫ fυ dυ\n",
    "\\end{equation}\n",
    "\n",
    "## Algorithm\n",
    "\n",
    " - For each ``j`` compute discrete Fourier transform in ``x`` of\n",
    "   ``(x_i,υ_j)`` yielding ``f_k^n(υ_j)``,\n",
    " - For `` k ≂̸ 0 ``\n",
    "     * Compute ``f^{n+1}_k(υ_j) = e^{−2iπ k υ Δt/L} f_n^k(υ_j), ``\n",
    "     * Compute ``ρ_k^{n+1} = Δ υ ∑_j􏰄 f^{n+1}_k(υ_j), ``\n",
    "     * Compute ``E^{n+1}_k = ρ^{n+1}_k L/(2iπkϵ_0), ``\n",
    " - For ``k = 0`` do nothing:\n",
    "\\begin{equation}\n",
    "f_{n+1}(υ_j) = f^n_k(υ_j), E^{n+1}_k = E^n_k.\n",
    "\\end{equation}\n",
    " - Perform in2erse discrete Fourier transform of ``E^{n+1}_k`` and for each\n",
    "   ``j`` of ``f^{n+1}_k (υ_j)``."
   ],
   "metadata": {}
  },
  {
   "outputs": [],
   "cell_type": "code",
   "source": [
    "import Splittings: advection!, Ampere, UniformMesh\n",
    "import Splittings: @Strang, compute_rho, compute_e\n",
    "using Plots, LinearAlgebra\n",
    "pyplot()"
   ],
   "metadata": {},
   "execution_count": null
  },
  {
   "outputs": [],
   "cell_type": "code",
   "source": [
    "function push_t!( f, fᵀ, mesh1, mesh2, e,  dt)\n",
    "\n",
    "    advection!( f, fᵀ, mesh1, mesh2, e,  dt, Ampere(), 1 )\n",
    "\n",
    "end"
   ],
   "metadata": {},
   "execution_count": null
  },
  {
   "outputs": [],
   "cell_type": "code",
   "source": [
    "function push_v!(f, fᵀ, mesh1, mesh2, e, dt)\n",
    "\n",
    "    advection!( f, fᵀ, mesh1, mesh2, e, dt, Ampere(), 2)\n",
    "\n",
    "end"
   ],
   "metadata": {},
   "execution_count": null
  },
  {
   "outputs": [],
   "cell_type": "code",
   "source": [
    "function vm1d( n1, n2, x1min, x1max, x2min, x2max , tf, nt)\n",
    "\n",
    "    mesh1 = UniformMesh(x1min, x1max, n1, endpoint=false)\n",
    "    mesh2 = UniformMesh(x2min, x2max, n2, endpoint=false)\n",
    "\n",
    "    x = mesh1.points\n",
    "    v = mesh2.points\n",
    "    ϵ, kx = 0.001, 0.5\n",
    "\n",
    "    f = zeros(Complex{Float64},(n1,n2))\n",
    "    fᵀ= zeros(Complex{Float64},(n2,n1))\n",
    "\n",
    "    f .= (1.0.+ϵ*cos.(kx*x))/sqrt(2π) .* transpose(exp.(-0.5*v.*v))\n",
    "    transpose!(fᵀ,f)\n",
    "\n",
    "    e = zeros(Complex{Float64},n1)\n",
    "\n",
    "    ρ  = compute_rho(mesh2, f)\n",
    "    e .= compute_e(mesh1, ρ)\n",
    "\n",
    "    nrj = Float64[]\n",
    "\n",
    "    dt = tf / nt\n",
    "\n",
    "    for i in 1:nt\n",
    "\n",
    "\tpush!(nrj, 0.5*log(sum(real(e).^2)*mesh1.step))\n",
    "\n",
    "        @Strang(  push_v!(f, fᵀ, mesh1, mesh2, e, dt),\n",
    "                  push_t!(f, fᵀ, mesh1, mesh2, e, dt)\n",
    "               )\n",
    "\n",
    "    end\n",
    "    nrj\n",
    "end"
   ],
   "metadata": {},
   "execution_count": null
  },
  {
   "outputs": [],
   "cell_type": "code",
   "source": [
    "n1, n2 = 32, 64\n",
    "x1min, x1max =  0., 4π\n",
    "x2min, x2max = -6., 6.\n",
    "tf = 80\n",
    "nt = 600\n",
    "\n",
    "t = range(0,stop=tf,length=nt)\n",
    "plot(t, vm1d(n1, n2, x1min, x1max, x2min, x2max, tf, nt) )\n",
    "plot!(t, -0.1533*t.-5.50)\n",
    "savefig(\"va-plot.png\"); nothing"
   ],
   "metadata": {},
   "execution_count": null
  },
  {
   "outputs": [],
   "cell_type": "markdown",
   "source": [
    "*This notebook was generated using [Literate.jl](https://github.com/fredrikekre/Literate.jl).*"
   ],
   "metadata": {}
  }
 ],
 "nbformat_minor": 3,
 "metadata": {
  "language_info": {
   "file_extension": ".jl",
   "mimetype": "application/julia",
   "name": "julia",
   "version": "1.0.1"
  },
  "kernelspec": {
   "name": "julia-1.0",
   "display_name": "Julia 1.0.1",
   "language": "julia"
  }
 },
 "nbformat": 4
}
