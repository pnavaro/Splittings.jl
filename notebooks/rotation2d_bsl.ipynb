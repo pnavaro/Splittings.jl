{
 "cells": [
  {
   "outputs": [],
   "cell_type": "markdown",
   "source": [
    "# Rotation of a gaussian distribution\n",
    "\n",
    "#md # [`notebook`](https://nbviewer.jupyter.org/github/TRAVIS_REPO_SLUG/blob/gh-pages/TRAVIS_TAG/notebooks/rotation_2d_bsl.ipynb),\n",
    "\n",
    "\\begin{equation}\n",
    "    \\frac{df}{dt} +  (y \\frac{df}{dx} - x \\frac{df}{dy}) = 0\n",
    "\\end{equation}"
   ],
   "metadata": {}
  },
  {
   "outputs": [
    {
     "output_type": "execute_result",
     "data": {
      "text/plain": "Plots.PyPlotBackend()"
     },
     "metadata": {},
     "execution_count": 1
    }
   ],
   "cell_type": "code",
   "source": [
    "import Splittings: advection!, UniformMesh\n",
    "import Splittings: @Strang\n",
    "using Plots\n",
    "pyplot()"
   ],
   "metadata": {},
   "execution_count": 1
  },
  {
   "outputs": [
    {
     "output_type": "execute_result",
     "data": {
      "text/plain": "with_bsl (generic function with 1 method)"
     },
     "metadata": {},
     "execution_count": 2
    }
   ],
   "cell_type": "code",
   "source": [
    "function with_bsl(tf::Float64, nt::Int)\n",
    "\n",
    "   nx, ny = 32, 64\n",
    "   meshx = UniformMesh(-π, π, nx)\n",
    "   meshy = UniformMesh(-π, π, ny)\n",
    "   x = meshx.points\n",
    "   y = meshy.points\n",
    "\n",
    "   dt = tf/nt\n",
    "\n",
    "   f = zeros(Float64,(nx,ny))\n",
    "\n",
    "   for (i, xp) in enumerate(x), (j, yp) in enumerate(y)\n",
    "       xn = cos(tf)*xp - sin(tf)*yp\n",
    "       yn = sin(tf)*xp + cos(tf)*yp\n",
    "       f[i,j] = exp(-(xn-1)*(xn-1)/0.2)*exp(-(yn-1)*(yn-1)/0.2)\n",
    "   end\n",
    "\n",
    "   anim = @animate for n=1:nt\n",
    "\n",
    "      @Strang(advection!( f,  meshx,  y, tan(dt), axis=1),\n",
    "              advection!( f,  meshy, -x, sin(dt), axis=2))\n",
    "\n",
    "      surface(f)\n",
    "\n",
    "   end\n",
    "\n",
    "   gif(anim, \"rotanim.gif\", fps=15); nothing #hide\n",
    "\n",
    "end"
   ],
   "metadata": {},
   "execution_count": 2
  },
  {
   "outputs": [
    {
     "name": "stdout",
     "output_type": "stream",
     "text": [
      "┌ Info: Saved animation to \n",
      "│   fn = /Users/navaro/.julia/dev/Splittings/notebooks/rotanim.gif\n",
      "└ @ Plots /Users/navaro/.julia/packages/Plots/7o1Vu/src/animation.jl:90\n",
      " 10.202906 seconds (7.21 M allocations: 320.169 MiB, 1.53% gc time)\n"
     ]
    }
   ],
   "cell_type": "code",
   "source": [
    "@time f = with_bsl( 2π, 20)"
   ],
   "metadata": {},
   "execution_count": 3
  },
  {
   "outputs": [],
   "cell_type": "markdown",
   "source": [
    "![](rotanim.gif)"
   ],
   "metadata": {}
  },
  {
   "outputs": [],
   "cell_type": "markdown",
   "source": [
    "*This notebook was generated using [Literate.jl](https://github.com/fredrikekre/Literate.jl).*"
   ],
   "metadata": {}
  }
 ],
 "nbformat_minor": 3,
 "metadata": {
  "language_info": {
   "file_extension": ".jl",
   "mimetype": "application/julia",
   "name": "julia",
   "version": "1.0.1"
  },
  "kernelspec": {
   "name": "julia-1.0",
   "display_name": "Julia 1.0.1",
   "language": "julia"
  }
 },
 "nbformat": 4
}
