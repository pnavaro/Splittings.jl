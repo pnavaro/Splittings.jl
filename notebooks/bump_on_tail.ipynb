{
 "cells": [
  {
   "outputs": [],
   "cell_type": "markdown",
   "source": [
    "# Bump On Tail"
   ],
   "metadata": {}
  },
  {
   "outputs": [],
   "cell_type": "code",
   "source": [
    "import Splittings: advection!, UniformMesh\n",
    "import Splittings: compute_rho, compute_e\n",
    "using Plots\n",
    "using LaTeXStrings\n",
    "\n",
    "pyplot()"
   ],
   "metadata": {},
   "execution_count": null
  },
  {
   "outputs": [],
   "cell_type": "code",
   "source": [
    "function vlasov_poisson(meshx  :: UniformMesh,\n",
    "                        meshv  :: UniformMesh,\n",
    "                        f      :: Array{Float64,2},\n",
    "                        nstep  :: Int64,\n",
    "                        dt     :: Float64)\n",
    "\n",
    "    x = meshx.points\n",
    "    v = meshv.points\n",
    "\n",
    "    nrj = Float64[]\n",
    "    for istep in 1:nstep\n",
    "        advection!( f, meshx, v, 0.5dt, axis=1)\n",
    "        rho = compute_rho(meshv, f)\n",
    "        e   = compute_e(meshx, rho)\n",
    "        advection!( f, meshv, e, dt, axis=2)\n",
    "        advection!( f, meshx, v, 0.5dt, axis=1)\n",
    "        push!(nrj, 0.5*log(sum(e.*e)*meshx.step))\n",
    "    end\n",
    "    nrj\n",
    "\n",
    "end"
   ],
   "metadata": {},
   "execution_count": null
  },
  {
   "outputs": [],
   "cell_type": "code",
   "source": [
    "α = 0.03\n",
    "kx  = 0.3\n",
    "xmin, xmax = 0.0, 2π / kx\n",
    "nx, nv = 32, 64\n",
    "vmin, vmax = -9., 9.\n",
    "meshx = UniformMesh(xmin, xmax, nx)\n",
    "meshv = UniformMesh(vmin, vmax, nv)\n",
    "f = zeros(Float64,(meshx.length,meshv.length))\n",
    "for (i,x) in enumerate(meshx.points), (j,v) in enumerate(meshv.points)\n",
    "    f[i,j]  = (1.0+α*cos(kx*x)) / (10*sqrt(2π)) * (9*exp(-0.5*v^2)+2*exp(-2*(v-4.5)^2))\n",
    "end"
   ],
   "metadata": {},
   "execution_count": null
  },
  {
   "outputs": [],
   "cell_type": "code",
   "source": [
    "nstep = 500\n",
    "t = range(0.0, stop=50.0, length=nstep)\n",
    "dt = t[2]\n",
    "@elapsed nrj = vlasov_poisson( meshx, meshv, f, nstep, dt)"
   ],
   "metadata": {},
   "execution_count": null
  },
  {
   "outputs": [],
   "cell_type": "code",
   "source": [
    "plot(t, nrj, label=L\"\\frac{1}{2} \\log(∫e²dx)\")\n",
    "savefig(\"bot-plot.png\"); nothing # hide"
   ],
   "metadata": {},
   "execution_count": null
  },
  {
   "outputs": [],
   "cell_type": "markdown",
   "source": [
    "*This notebook was generated using [Literate.jl](https://github.com/fredrikekre/Literate.jl).*"
   ],
   "metadata": {}
  }
 ],
 "nbformat_minor": 3,
 "metadata": {
  "language_info": {
   "file_extension": ".jl",
   "mimetype": "application/julia",
   "name": "julia",
   "version": "1.0.1"
  },
  "kernelspec": {
   "name": "julia-1.0",
   "display_name": "Julia 1.0.1",
   "language": "julia"
  }
 },
 "nbformat": 4
}
