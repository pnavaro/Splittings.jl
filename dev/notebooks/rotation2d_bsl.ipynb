{
 "cells": [
  {
   "outputs": [],
   "cell_type": "markdown",
   "source": [
    "# Rotation of a gaussian distribution\n",
    "\n",
    "\n",
    "\\begin{equation}\n",
    "\\frac{df}{dt} +  (y \\frac{df}{dx} - x \\frac{df}{dy}) = 0\n",
    "\\end{equation}"
   ],
   "metadata": {}
  },
  {
   "outputs": [],
   "cell_type": "code",
   "source": [
    "import Splittings: advection!, UniformMesh\n",
    "import Splittings: @Magic, CubicSpline\n",
    "using Plots"
   ],
   "metadata": {},
   "execution_count": null
  },
  {
   "outputs": [],
   "cell_type": "code",
   "source": [
    "function with_bsl(tf::Float64, nt::Int)\n",
    "\n",
    "   n1, n2 = 32, 64\n",
    "   mesh1 = UniformMesh(-π, π, n1)\n",
    "   mesh2 = UniformMesh(-π, π, n2)\n",
    "   x = mesh1.points\n",
    "   y = mesh2.points\n",
    "\n",
    "   dt = tf/nt\n",
    "\n",
    "   f = zeros(Float64,(n1,n2))\n",
    "\n",
    "   for (i, xp) in enumerate(x), (j, yp) in enumerate(y)\n",
    "       xn = cos(tf)*xp - sin(tf)*yp\n",
    "       yn = sin(tf)*xp + cos(tf)*yp\n",
    "       f[i,j] = exp(-(xn-1)*(xn-1)/0.2)*exp(-(yn-1)*(yn-1)/0.2)\n",
    "   end\n",
    "\n",
    "   anim = @animate for n=1:nt\n",
    "\n",
    "\t   @Magic(advection!( f,  mesh1,  y, dt, CubicSpline(), 1),\n",
    "\t\t    advection!( f,  mesh2, -x, dt, CubicSpline(), 2)\n",
    "\t\t   )\n",
    "\n",
    "      surface(f)\n",
    "\n",
    "   end\n",
    "\n",
    "   gif(anim, \"rotanim.gif\", fps=15); nothing #hide\n",
    "\n",
    "end"
   ],
   "metadata": {},
   "execution_count": null
  },
  {
   "outputs": [],
   "cell_type": "code",
   "source": [
    "@time f = with_bsl( 2π, 6)"
   ],
   "metadata": {},
   "execution_count": null
  },
  {
   "outputs": [],
   "cell_type": "markdown",
   "source": [
    "![](rotanim.gif)"
   ],
   "metadata": {}
  },
  {
   "outputs": [],
   "cell_type": "markdown",
   "source": [
    "*This notebook was generated using [Literate.jl](https://github.com/fredrikekre/Literate.jl).*"
   ],
   "metadata": {}
  }
 ],
 "nbformat_minor": 3,
 "metadata": {
  "language_info": {
   "file_extension": ".jl",
   "mimetype": "application/julia",
   "name": "julia",
   "version": "1.0.2"
  },
  "kernelspec": {
   "name": "julia-1.0",
   "display_name": "Julia 1.0.2",
   "language": "julia"
  }
 },
 "nbformat": 4
}
