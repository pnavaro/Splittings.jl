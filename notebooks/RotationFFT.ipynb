{
 "cells": [
  {
   "cell_type": "markdown",
   "metadata": {
    "slideshow": {
     "slide_type": "slide"
    }
   },
   "source": [
    "$$\n",
    "\\frac{d f}{dt} +  (v \\frac{d f}{dx} - x \\frac{d f}{dv}) = 0\n",
    "$$"
   ]
  },
  {
   "cell_type": "markdown",
   "metadata": {
    "slideshow": {
     "slide_type": "fragment"
    }
   },
   "source": [
    "$$ \n",
    "x \\in [-\\pi, \\pi],\\qquad y \\in [-\\pi, \\pi] \\qquad \\mbox{ and } \\qquad t \\in [0, 200\\pi] \n",
    "$$"
   ]
  },
  {
   "cell_type": "code",
   "execution_count": 8,
   "metadata": {
    "scrolled": true,
    "slideshow": {
     "slide_type": "fragment"
    }
   },
   "outputs": [
    {
     "data": {
      "text/plain": [
       "Plots.PyPlotBackend()"
      ]
     },
     "execution_count": 8,
     "metadata": {},
     "output_type": "execute_result"
    }
   ],
   "source": [
    "using  FFTW\n",
    "using  LinearAlgebra\n",
    "using  Plots, ProgressMeter\n",
    "using  BenchmarkTools\n",
    "pyplot()"
   ]
  },
  {
   "cell_type": "code",
   "execution_count": 14,
   "metadata": {
    "scrolled": true,
    "slideshow": {
     "slide_type": "slide"
    }
   },
   "outputs": [
    {
     "data": {
      "text/plain": [
       "Mesh(61, 61, 31.0, 37.0, 31.0, 37.0, 0.1, 0.1, [-3.0, -2.9, -2.8, -2.7, -2.6, -2.5, -2.4, -2.3, -2.2, -2.1  …  2.1, 2.2, 2.3, 2.4, 2.5, 2.6, 2.7, 2.8, 2.9, 3.0], [-3.0, -2.9, -2.8, -2.7, -2.6, -2.5, -2.4, -2.3, -2.2, -2.1  …  2.1, 2.2, 2.3, 2.4, 2.5, 2.6, 2.7, 2.8, 2.9, 3.0])"
      ]
     },
     "execution_count": 14,
     "metadata": {},
     "output_type": "execute_result"
    }
   ],
   "source": [
    "struct Mesh\n",
    "    \n",
    "    nx   :: Int\n",
    "    ny   :: Int\n",
    "    xmin :: Float64\n",
    "    xmax :: Float64\n",
    "    ymin :: Float64\n",
    "    ymax :: Float64\n",
    "    dx   :: Float64\n",
    "    dy   :: Float64\n",
    "    x    :: Vector{Float64}\n",
    "    y    :: Vector{Float64}\n",
    "    \n",
    "    function Mesh( xmin, xmax, nx, ymin, ymax, ny)\n",
    "        dx, dy = (xmax-xmin)/nx, (ymax-ymin)/ny\n",
    "        x = range(xmin, stop=xmax, length=nx+1)[1:end-1]  # we remove the end point\n",
    "        y = range(ymin, stop=ymax, length=ny+1)[1:end-1]  # periodic boundary condition\n",
    "        new( nx, ny, xmin, xmax, ymin, ymax, dx, dy, x, y)\n",
    "    end\n",
    "    \n",
    "    function Mesh( x, y)\n",
    "        dx, dy = x.step, y.step\n",
    "        nx, ny = x.len, y.len\n",
    "        xmin, ymin = x.offset, y.offset\n",
    "        xmax = xmin + (nx-1)*dx\n",
    "        ymax = ymin + (ny-1)*dy\n",
    "        new( nx, ny, xmin, xmax, ymin, ymax, dx, dy, x, y)\n",
    "    end\n",
    "end\n",
    "\n",
    "mesh = Mesh(-π, π, 128, -π, π, 256)\n",
    "\n",
    "mesh = Mesh(-3:0.1:3, -3:0.1:3)"
   ]
  },
  {
   "cell_type": "markdown",
   "metadata": {
    "slideshow": {
     "slide_type": "slide"
    }
   },
   "source": [
    "### Julia function to compute exact solution"
   ]
  },
  {
   "cell_type": "code",
   "execution_count": 10,
   "metadata": {
    "scrolled": true,
    "slideshow": {
     "slide_type": "fragment"
    }
   },
   "outputs": [
    {
     "data": {
      "text/plain": [
       "exact (generic function with 1 method)"
      ]
     },
     "execution_count": 10,
     "metadata": {},
     "output_type": "execute_result"
    }
   ],
   "source": [
    "function exact(tf, mesh)\n",
    "   \n",
    "    f = zeros(Float64,(mesh.nx, mesh.ny))\n",
    "    for (i, x) in enumerate(mesh.x), (j, y) in enumerate(mesh.y)\n",
    "        xn = cos(tf)*x - sin(tf)*y\n",
    "        yn = sin(tf)*x + cos(tf)*y\n",
    "        f[i,j] = exp(-(xn-1)*(xn-1)/0.1)*exp(-(yn-1)*(yn-1)/0.1)\n",
    "    end\n",
    "    f\n",
    "    \n",
    "end"
   ]
  },
  {
   "cell_type": "code",
   "execution_count": 11,
   "metadata": {
    "scrolled": true,
    "slideshow": {
     "slide_type": "fragment"
    }
   },
   "outputs": [
    {
     "data": {
      "text/plain": [
       "error1 (generic function with 1 method)"
      ]
     },
     "execution_count": 11,
     "metadata": {},
     "output_type": "execute_result"
    }
   ],
   "source": [
    "function error1(f, f_exact)\n",
    "    maximum(abs.(f .- f_exact))\n",
    "end"
   ]
  },
  {
   "cell_type": "code",
   "execution_count": 12,
   "metadata": {
    "scrolled": true,
    "slideshow": {
     "slide_type": "slide"
    }
   },
   "outputs": [
    {
     "data": {
      "text/plain": [
       "with_fft_transposed (generic function with 1 method)"
      ]
     },
     "execution_count": 12,
     "metadata": {},
     "output_type": "execute_result"
    }
   ],
   "source": [
    "function with_fft_transposed(tf, nt, mesh::Mesh)\n",
    "\n",
    "    dt = tf/nt\n",
    "\n",
    "    kx = 2π/(mesh.xmax-mesh.xmin)*[0:mesh.nx÷2-1;mesh.nx÷2-mesh.nx:-1]\n",
    "    ky = 2π/(mesh.ymax-mesh.ymin)*[0:mesh.ny÷2-1;mesh.ny÷2-mesh.ny:-1]\n",
    "    \n",
    "    f  = zeros(Complex{Float64},(mesh.nx,mesh.ny))\n",
    "    f̂  = similar(f)\n",
    "    fᵗ = zeros(Complex{Float64},(mesh.ny,mesh.nx))\n",
    "    f̂ᵗ = similar(fᵗ)\n",
    "\n",
    "    exky = exp.( 1im*tan(dt/2) .* mesh.x' .* ky )\n",
    "    ekxy = exp.(-1im*sin(dt)   .* mesh.y' .* kx )\n",
    "    \n",
    "    FFTW.set_num_threads(4)\n",
    "    Px = plan_fft(f,  1, flags=FFTW.PATIENT)    \n",
    "    Py = plan_fft(fᵗ, 1, flags=FFTW.PATIENT)\n",
    "    \n",
    "    f .= exact(0.0, mesh)\n",
    "    \n",
    "    for n = 1:nt\n",
    "        transpose!(fᵗ,f)\n",
    "        mul!(f̂ᵗ, Py, fᵗ)\n",
    "        f̂ᵗ .= f̂ᵗ .* exky\n",
    "        ldiv!(fᵗ, Py, f̂ᵗ)\n",
    "        transpose!(f,fᵗ)\n",
    "        \n",
    "        mul!(f̂, Px, f)\n",
    "        f̂ .= f̂ .* ekxy \n",
    "        ldiv!(f, Px, f̂)\n",
    "        \n",
    "        transpose!(fᵗ,f)\n",
    "        mul!(f̂ᵗ, Py, fᵗ)\n",
    "        f̂ᵗ .= f̂ᵗ .* exky\n",
    "        ldiv!(fᵗ, Py, f̂ᵗ)\n",
    "        transpose!(f,fᵗ)\n",
    "    end\n",
    "    real(f)\n",
    "end"
   ]
  },
  {
   "cell_type": "code",
   "execution_count": 13,
   "metadata": {
    "scrolled": true,
    "slideshow": {
     "slide_type": "slide"
    }
   },
   "outputs": [
    {
     "name": "stdout",
     "output_type": "stream",
     "text": [
      " error = 3.2374103398069565e-13\n"
     ]
    }
   ],
   "source": [
    "nt, tf = 1000, 200\\pi\n",
    "println( \" error = \", error1(with_fft_transposed(tf, nt, mesh), exact(tf, mesh)))"
   ]
  }
 ],
 "metadata": {
  "celltoolbar": "Slideshow",
  "kernelspec": {
   "display_name": "Julia 1.0.1",
   "language": "julia",
   "name": "julia-1.0"
  },
  "language_info": {
   "file_extension": ".jl",
   "mimetype": "application/julia",
   "name": "julia",
   "version": "1.0.1"
  }
 },
 "nbformat": 4,
 "nbformat_minor": 2
}
