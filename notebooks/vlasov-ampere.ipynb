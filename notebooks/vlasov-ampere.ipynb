{
 "cells": [
  {
   "outputs": [],
   "cell_type": "markdown",
   "source": [
    "# Vlasov-Ampere\n",
    "\n",
    "\n",
    "Compute Landau damping by solving Vlasov-Ampere system.\n",
    "\n",
    "\\begin{equation}\n",
    " \\frac{∂f}{∂t} + υ \\frac{∂f}{∂x} - E(t,x) \\frac{∂f}{∂υ} = 0\n",
    "\\end{equation}\n",
    "\n",
    "\\begin{equation}\n",
    "\\frac{∂E}{∂t} = - J = ∫ fυ dυ\n",
    "\\end{equation}\n",
    "\n",
    "## Algorithm\n",
    "\n",
    " - For each ``j`` compute discrete Fourier transform in ``x`` of\n",
    "   ``(x_i,υ_j)`` yielding ``f_k^n(υ_j)``,\n",
    " - For `` k ≂̸ 0 ``\n",
    "     * Compute ``f^{n+1}_k(υ_j) = e^{−2iπ k υ Δt/L} f_n^k(υ_j), ``\n",
    "     * Compute ``ρ_k^{n+1} = Δ υ ∑_j􏰄 f^{n+1}_k(υ_j), ``\n",
    "     * Compute ``E^{n+1}_k = ρ^{n+1}_k L/(2iπkϵ_0), ``\n",
    " - For ``k = 0`` do nothing:\n",
    "\\begin{equation}\n",
    "f_{n+1}(υ_j) = f^n_k(υ_j), E^{n+1}_k = E^n_k.\n",
    "\\end{equation}\n",
    " - Perform inverse discrete Fourier transform of ``E^{n+1}_k`` and for each\n",
    "   ``j`` of ``f^{n+1}_k (υ_j)``."
   ],
   "metadata": {}
  },
  {
   "outputs": [],
   "cell_type": "code",
   "source": [
    "import Splittings: advection_x!, advection_v!, UniformMesh\n",
    "import Splittings: @Strang, compute_rho, compute_e\n",
    "using Plots, LinearAlgebra\n",
    "pyplot()"
   ],
   "metadata": {},
   "execution_count": null
  },
  {
   "outputs": [],
   "cell_type": "code",
   "source": [
    "function push_t!( f, fᵀ, meshx, meshv, e,  dt)\n",
    "    transpose!(f,fᵀ)\n",
    "    advection_x!( f, meshx, meshv, e,  dt)\n",
    "    transpose!(fᵀ,f)\n",
    "end"
   ],
   "metadata": {},
   "execution_count": null
  },
  {
   "outputs": [],
   "cell_type": "code",
   "source": [
    "function push_v!(fᵀ, meshx, meshv, e, dt)\n",
    "    advection_v!(fᵀ, meshx, meshv, e, dt)\n",
    "end"
   ],
   "metadata": {},
   "execution_count": null
  },
  {
   "outputs": [],
   "cell_type": "code",
   "source": [
    "function vm1d( nx, nv, xmin, xmax, vmin, vmax , tf, nt)\n",
    "\n",
    "    meshx = UniformMesh(xmin, xmax, nx, endpoint=false)\n",
    "    meshv = UniformMesh(vmin, vmax, nv, endpoint=false)\n",
    "\n",
    "    x = meshx.points\n",
    "    v = meshv.points\n",
    "    ϵ, kx = 0.001, 0.5\n",
    "\n",
    "    f = zeros(Complex{Float64},(nx,nv))\n",
    "    fᵀ= zeros(Complex{Float64},(nv,nx))\n",
    "\n",
    "    f .= (1.0.+ϵ*cos.(kx*x))/sqrt(2π) .* transpose(exp.(-0.5*v.*v))\n",
    "    transpose!(fᵀ,f)\n",
    "\n",
    "    e = zeros(Complex{Float64},nx)\n",
    "\n",
    "    ρ  = compute_rho(meshv, f)\n",
    "    e .= compute_e(meshx, ρ)\n",
    "\n",
    "    nrj = Float64[]\n",
    "\n",
    "    dt = tf / nt\n",
    "\n",
    "    for i in 1:nt\n",
    "\n",
    "\tpush!(nrj, 0.5*log(sum(real(e).^2)*meshx.step))\n",
    "\n",
    "        @Strang(  push_v!(fᵀ, meshx, meshv, e,  dt),\n",
    "                  push_t!(f, fᵀ, meshx, meshv, e,  dt)\n",
    "               )\n",
    "\n",
    "    end\n",
    "    nrj\n",
    "end"
   ],
   "metadata": {},
   "execution_count": null
  },
  {
   "outputs": [],
   "cell_type": "code",
   "source": [
    "nx, nv = 32, 64\n",
    "xmin, xmax =  0., 4π\n",
    "vmin, vmax = -6., 6.\n",
    "tf = 80\n",
    "nt = 600\n",
    "\n",
    "t = range(0,stop=tf,length=nt)\n",
    "plot(t, vm1d(nx, nv, xmin, xmax, vmin, vmax, tf, nt) )\n",
    "plot!(t, -0.1533*t.-5.50)\n",
    "savefig(\"va-plot.png\"); nothing"
   ],
   "metadata": {},
   "execution_count": null
  },
  {
   "outputs": [],
   "cell_type": "markdown",
   "source": [
    "*This notebook was generated using [Literate.jl](https://github.com/fredrikekre/Literate.jl).*"
   ],
   "metadata": {}
  }
 ],
 "nbformat_minor": 3,
 "metadata": {
  "language_info": {
   "file_extension": ".jl",
   "mimetype": "application/julia",
   "name": "julia",
   "version": "1.0.1"
  },
  "kernelspec": {
   "name": "julia-1.0",
   "display_name": "Julia 1.0.1",
   "language": "julia"
  }
 },
 "nbformat": 4
}
