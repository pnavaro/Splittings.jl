{
 "cells": [
  {
   "outputs": [],
   "cell_type": "markdown",
   "source": [
    "# Vlasov-Poisson\n",
    "\n",
    "\n",
    "We consider the dimensionless Vlasov-Poisson equation for one species\n",
    "with a neutralizing background.\n",
    "\n",
    "\\begin{equation}\n",
    " \\\\frac{∂f}{∂t}+ v⋅∇_x f + E(t,x) ⋅ ∇_v f = 0, \\\\\n",
    " - Δϕ = 1 - ρ, E = - ∇ ϕ \\\\\n",
    " ρ(t,x)  =  ∫ f(t,x,v)dv.\n",
    "\\end{equation}\n",
    "\n",
    " - [Vlasov Equation - Wikipedia](https://en.wikipedia.org/wiki/Vlasov_equation)\n",
    " - [Landau damping - Wikipedia](https://en.wikipedia.org/wiki/Landau_damping)"
   ],
   "metadata": {}
  },
  {
   "outputs": [],
   "cell_type": "code",
   "source": [
    "using Plots, LinearAlgebra\n",
    "pyplot()\n",
    "import Splittings:UniformMesh, BSpline\n",
    "import Splittings:@Strang\n",
    "import Splittings"
   ],
   "metadata": {},
   "execution_count": null
  },
  {
   "outputs": [],
   "cell_type": "code",
   "source": [
    "function push_t!(f, meshx, v, nv, dt)\n",
    "    Splittings.advection!(f, meshx, v, nv, dt, BSpline(5))\n",
    "end"
   ],
   "metadata": {},
   "execution_count": null
  },
  {
   "outputs": [],
   "cell_type": "code",
   "source": [
    "function push_v!(f, fᵗ, meshx, meshv, nrj, dt)\n",
    "    rho = Splittings.compute_rho(meshv, f)\n",
    "    e   = Splittings.compute_e(meshx, rho)\n",
    "    push!(nrj, 0.5*log(sum(e.*e)*meshx.step))\n",
    "    transpose!(fᵗ, f)\n",
    "    Splittings.advection!(fᵗ, meshv, e, meshx.length, dt, BSpline(5))\n",
    "    transpose!(f, fᵗ)\n",
    "end"
   ],
   "metadata": {},
   "execution_count": null
  },
  {
   "outputs": [],
   "cell_type": "code",
   "source": [
    "function landau(tf, nt)\n",
    "\n",
    "  nx, nv = 32, 64\n",
    "  xmin, xmax = 0.0, 4π\n",
    "  vmin, vmax = -6., 6.\n",
    "  meshx = UniformMesh(xmin, xmax, nx; endpoint=false)\n",
    "  meshv = UniformMesh(vmin, vmax, nv; endpoint=false)\n",
    "  x = meshx.points\n",
    "  v = meshv.points\n",
    "  dx = meshx.step\n",
    "\n",
    "  ϵ, kx = 0.001, 0.5\n",
    "  f = zeros(Complex{Float64},(nx,nv))\n",
    "  f .= (1.0.+ϵ*cos.(kx*x))/sqrt(2π) * transpose(exp.(-0.5*v.^2))\n",
    "  fᵗ = zeros(Complex{Float64},(nv,nx))\n",
    "\n",
    "  dt = tf / nt\n",
    "\n",
    "  nrj = Float64[]\n",
    "\n",
    "  for it in 1:nt\n",
    "      @Strang( push_t!(f, meshx, v, nv, dt),\n",
    "               push_v!(f, fᵗ, meshx, meshv, nrj, dt))\n",
    "  end\n",
    "\n",
    "  nrj\n",
    "\n",
    "end"
   ],
   "metadata": {},
   "execution_count": null
  },
  {
   "outputs": [],
   "cell_type": "code",
   "source": [
    "nt = 600\n",
    "tf = 60.0\n",
    "t  = range(0.0, stop=tf, length=nt)\n",
    "@time nrj = landau(tf, nt)\n",
    "plot( t, nrj)\n",
    "plot!(t, -0.1533*t.-5.50)\n",
    "savefig(\"landau-plot.png\"); nothing # hide"
   ],
   "metadata": {},
   "execution_count": null
  },
  {
   "outputs": [],
   "cell_type": "markdown",
   "source": [
    "*This notebook was generated using [Literate.jl](https://github.com/fredrikekre/Literate.jl).*"
   ],
   "metadata": {}
  }
 ],
 "nbformat_minor": 3,
 "metadata": {
  "language_info": {
   "file_extension": ".jl",
   "mimetype": "application/julia",
   "name": "julia",
   "version": "1.0.1"
  },
  "kernelspec": {
   "name": "julia-1.0",
   "display_name": "Julia 1.0.1",
   "language": "julia"
  }
 },
 "nbformat": 4
}
