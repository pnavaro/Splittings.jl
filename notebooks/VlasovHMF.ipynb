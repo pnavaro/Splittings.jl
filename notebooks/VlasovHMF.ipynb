{
 "cells": [
  {
   "cell_type": "code",
   "execution_count": 79,
   "metadata": {},
   "outputs": [
    {
     "name": "stderr",
     "output_type": "stream",
     "text": [
      "┌ Warning: Pkg.clone is only kept for legacy CI script reasons, please use `add`\n",
      "└ @ Pkg.API /Users/osx/buildbot/slave/package_osx64/build/usr/share/julia/stdlib/v0.7/Pkg/src/API.jl:445\n"
     ]
    },
    {
     "name": "stdout",
     "output_type": "stream",
     "text": [
      "\u001b[32m\u001b[1m  Updating\u001b[22m\u001b[39m registry at `~/.julia/registries/General`\n",
      "\u001b[32m\u001b[1m  Updating\u001b[22m\u001b[39m git-repo `https://github.com/JuliaRegistries/General.git`\n",
      "\u001b[2K\u001b[?25h[1mFetching:\u001b[22m\u001b[39m [========================================>]  100.0 %.0 %\u001b[32m\u001b[1m  Updating\u001b[22m\u001b[39m git-repo `https://github.com/pnavaro/Splittings.jl.git`\n",
      "\u001b[2K\u001b[?25h[1mFetching:\u001b[22m\u001b[39m [========================================>]  100.0 %.0 %"
     ]
    },
    {
     "name": "stderr",
     "output_type": "stream",
     "text": [
      "┌ Info: Path `/Users/navaro/.julia/dev/Splittings` exists and looks like the correct package, using existing path instead of cloning\n",
      "└ @ Pkg.Types /Users/osx/buildbot/slave/package_osx64/build/usr/share/julia/stdlib/v0.7/Pkg/src/Types.jl:573\n"
     ]
    },
    {
     "name": "stdout",
     "output_type": "stream",
     "text": [
      "\u001b[32m\u001b[1m Resolving\u001b[22m\u001b[39m package versions...\n",
      "\u001b[32m\u001b[1m Installed\u001b[22m\u001b[39m OrderedCollections ─ v1.0.2\n",
      "\u001b[32m\u001b[1m Installed\u001b[22m\u001b[39m DataDeps ─────────── v0.6.0\n",
      "\u001b[32m\u001b[1m  Updating\u001b[22m\u001b[39m `~/.julia/environments/v0.7/Project.toml`\n",
      "\u001b[90m [no changes]\u001b[39m\n",
      "\u001b[32m\u001b[1m  Updating\u001b[22m\u001b[39m `~/.julia/environments/v0.7/Manifest.toml`\n",
      " \u001b[90m [124859b0]\u001b[39m\u001b[93m ↑ DataDeps v0.5.2 ⇒ v0.6.0\u001b[39m\n",
      " \u001b[90m [bac558e1]\u001b[39m\u001b[93m ↑ OrderedCollections v1.0.1 ⇒ v1.0.2\u001b[39m\n"
     ]
    }
   ],
   "source": [
    "using Pkg\n",
    "Pkg.clone(\"https://github.com/pnavaro/Splittings.jl.git\")"
   ]
  },
  {
   "cell_type": "code",
   "execution_count": 80,
   "metadata": {},
   "outputs": [],
   "source": [
    "using LinearAlgebra, QuadGK, Roots, FFTW\n",
    "using Splittings"
   ]
  },
  {
   "cell_type": "code",
   "execution_count": 81,
   "metadata": {},
   "outputs": [
    {
     "data": {
      "text/plain": [
       "Plots.PyPlotBackend()"
      ]
     },
     "execution_count": 81,
     "metadata": {},
     "output_type": "execute_result"
    }
   ],
   "source": [
    "using Plots\n",
    "pyplot()"
   ]
  },
  {
   "cell_type": "code",
   "execution_count": 82,
   "metadata": {},
   "outputs": [
    {
     "data": {
      "text/plain": [
       "mag"
      ]
     },
     "execution_count": 82,
     "metadata": {},
     "output_type": "execute_result"
    }
   ],
   "source": [
    "\" Compute M₀ by solving F(m) = 0 \"\n",
    "function mag(β, mass)\n",
    "    \n",
    "    F(m) = begin\n",
    "        g(x, n, m) = (1 / π) * (exp(β * m * cos(x)) * cos(n * x))\n",
    "        bessel0(x) = g(x, 0, m) \n",
    "        bessel1(x) = g(x, 1, m)\n",
    "        mass * quadgk(bessel1, 0, π)[1] / quadgk(bessel0, 0, π)[1] - m\n",
    "    end\n",
    "    \n",
    "    find_zero(F, (0, mass))\n",
    "end"
   ]
  },
  {
   "cell_type": "code",
   "execution_count": 83,
   "metadata": {},
   "outputs": [
    {
     "data": {
      "text/plain": [
       "Norm (generic function with 2 methods)"
      ]
     },
     "execution_count": 83,
     "metadata": {},
     "output_type": "execute_result"
    }
   ],
   "source": [
    "function Norm(f::Array{Float64,2}, dx, dv)\n",
    "   return dx * sum(dv * sum(real(f), dims=1))\n",
    "end"
   ]
  },
  {
   "cell_type": "code",
   "execution_count": 84,
   "metadata": {},
   "outputs": [
    {
     "data": {
      "text/plain": [
       "hmf_poisson!"
      ]
     },
     "execution_count": 84,
     "metadata": {},
     "output_type": "execute_result"
    }
   ],
   "source": [
    "\"\"\"\n",
    "    Compute the electric hamiltonian mean field from a \n",
    "    2D distribution function\n",
    "\"\"\"\n",
    "function hmf_poisson!(fᵗ::Array{Float64,2}, \n",
    "        meshx::UniformMesh, \n",
    "        meshv::UniformMesh,\n",
    "        ex::Array{Float64})\n",
    "\n",
    "    nx = meshx.nx\n",
    "    rho = meshv.dx .* vec(sum(fᵗ, dims=1))\n",
    "    kernel = zeros(Float64, nx)\n",
    "    k = π / (meshx.xmax - meshx.xmin)\n",
    "    kernel[2] = k\n",
    "    ex .= real(ifft(1im * fft(rho) .* kernel * 4π ))\n",
    "\n",
    "end"
   ]
  },
  {
   "cell_type": "code",
   "execution_count": 85,
   "metadata": {},
   "outputs": [
    {
     "data": {
      "text/plain": [
       "bsl_advection! (generic function with 1 method)"
      ]
     },
     "execution_count": 85,
     "metadata": {},
     "output_type": "execute_result"
    }
   ],
   "source": [
    "function bsl_advection!(meshx::UniformMesh, \n",
    "                        meshv::UniformMesh,\n",
    "                        f::Array{Float64,2},\n",
    "                        v::Array{Float64,1},\n",
    "                        dt)\n",
    "    \n",
    "    @simd for j in 1:meshv.nx\n",
    "        alpha = v[j] * dt\n",
    "        @inbounds f[:,j] .= Splittings.interpolate(3, f[:,j], \n",
    "            meshx.dx, alpha)\n",
    "    end\n",
    "end"
   ]
  },
  {
   "cell_type": "code",
   "execution_count": 86,
   "metadata": {},
   "outputs": [
    {
     "data": {
      "text/plain": [
       "vlasov_hmf_gauss (generic function with 3 methods)"
      ]
     },
     "execution_count": 86,
     "metadata": {},
     "output_type": "execute_result"
    }
   ],
   "source": [
    "function vlasov_hmf_gauss(nbiter = 10000, deltat = 0.1)\n",
    "\n",
    "    mass = 1.0\n",
    "    T = 0.1\n",
    "    meshx = UniformMesh(-π, π, 64)\n",
    "    meshv = UniformMesh(-8, 8, 64)\n",
    "    \n",
    "    nx, dx = meshx.nx, meshx.dx\n",
    "    nv, dv = meshv.nx, meshv.dx\n",
    "    x, v = meshx.x, meshv.x\n",
    "    X = repeat(x,1,nv)\n",
    "    V = repeat(v,1,nx)'\n",
    "    ϵ = 0.1\n",
    "    \n",
    "    b = 1 / T\n",
    "    m = mag(b, mass)\n",
    "   \n",
    "    w   = sqrt(m)\n",
    "    f   = zeros(Float64, (nx,nv))\n",
    "    fᵗ  = zeros(Float64, (nv,nx))\n",
    "    \n",
    "    f  .= exp.(-b .* ((V.^2 / 2) - m * cos.(X)))\n",
    "    a   = mass / Norm(f, dx, dv)\n",
    "    @.  f =  a * exp(-b * (((V^2) / 2) - m * cos(X))) * (1 + ϵ * cos(X))\n",
    "    \n",
    "    ex = zeros(Float64,nx)\n",
    "    hmf_poisson!(f, meshx, meshv, ex )\n",
    "    test = copy(f)\n",
    "    T = Float64[]\n",
    "    for n in 1:nbiter\n",
    "    \n",
    "        gamma1 = Norm(f .* cos.(X), dx, dv)\n",
    "        push!(T,gamma1)\n",
    "    \n",
    "        \"\"\"Vlasov-HMF Strang\"\"\"\n",
    "        bsl_advection!(meshx, meshv, f, v, deltat / 2)\n",
    "        transpose!(fᵗ, f)\n",
    "        hmf_poisson!(fᵗ, meshx, meshv, ex)\n",
    "        bsl_advection!(meshv, meshx, fᵗ, ex, deltat)\n",
    "        transpose!(f, fᵗ)\n",
    "        bsl_advection!(meshx, meshv, f, v, deltat / 2)\n",
    "    \n",
    "    end\n",
    "    \n",
    "    #Substracting from gamma its long time average\n",
    "    \n",
    "    Gamma1 = Norm(f .*cos.(X), dx, dv)\n",
    "    T .= T .- Gamma1\n",
    "    \n",
    "    range(0., stop=nbiter*deltat, length=nbiter), abs.(T)\n",
    "    \n",
    "end "
   ]
  },
  {
   "cell_type": "code",
   "execution_count": 87,
   "metadata": {},
   "outputs": [
    {
     "name": "stdout",
     "output_type": "stream",
     "text": [
      " 88.349981 seconds (248.93 M allocations: 29.940 GiB, 7.59% gc time)\n"
     ]
    }
   ],
   "source": [
    "nbiter = 10000\n",
    "deltat = 0.1\n",
    "@time t, T = vlasov_hmf_gauss(nbiter, deltat);"
   ]
  },
  {
   "cell_type": "code",
   "execution_count": 88,
   "metadata": {},
   "outputs": [
    {
     "data": {
      "image/png": "[encoded data removed]"
     },
     "execution_count": 88,
     "metadata": {},
     "output_type": "execute_result"
    }
   ],
   "source": [
    "plot(t, log.(T), \n",
    "    xlabel = \"t\",\n",
    "    ylabel = \"|C[f](t)-C[f][T]|\")"
   ]
  }
 ],
 "metadata": {
  "kernelspec": {
   "display_name": "Julia 0.7.0",
   "language": "julia",
   "name": "julia-0.7"
  },
  "language_info": {
   "file_extension": ".jl",
   "mimetype": "application/julia",
   "name": "julia",
   "version": "0.7.0"
  }
 },
 "nbformat": 4,
 "nbformat_minor": 2
}
