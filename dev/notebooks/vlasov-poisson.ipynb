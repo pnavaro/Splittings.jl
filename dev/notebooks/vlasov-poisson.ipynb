{
 "cells": [
  {
   "outputs": [],
   "cell_type": "markdown",
   "source": [
    "# Vlasov-Poisson\n",
    "\n",
    "\n",
    "We consider the dimensionless Vlasov-Poisson equation for one species\n",
    "with a neutralizing background.\n",
    "\n",
    "\\begin{equation}\n",
    " \\frac{∂f}{∂t}+ v⋅∇_x f + E(t,x) ⋅ ∇_v f = 0, \\\\\n",
    " - Δϕ = 1 - ρ, E = - ∇ ϕ \\\\\n",
    " ρ(t,x)  =  ∫ f(t,x,v) dv\n",
    "\\end{equation}\n",
    "\n",
    " - [Vlasov Equation - Wikipedia](https://en.wikipedia.org/wiki/Vlasov_equation)\n",
    " - [Landau damping - Wikipedia](https://en.wikipedia.org/wiki/Landau_damping)"
   ],
   "metadata": {}
  },
  {
   "outputs": [],
   "cell_type": "code",
   "source": [
    "using Plots, LinearAlgebra\n",
    "import Splittings:UniformMesh, BSpline\n",
    "import Splittings:@Strang\n",
    "import Splittings"
   ],
   "metadata": {},
   "execution_count": null
  },
  {
   "outputs": [],
   "cell_type": "code",
   "source": [
    "function push_t!(f, mesh1, v, n2, dt)\n",
    "    Splittings.advection!(f, mesh1, v, n2, dt, BSpline(5))\n",
    "end"
   ],
   "metadata": {},
   "execution_count": null
  },
  {
   "outputs": [],
   "cell_type": "code",
   "source": [
    "function push_v!(f, fᵗ, mesh1, mesh2, nrj, dt)\n",
    "    rho = Splittings.compute_rho(mesh2, f)\n",
    "    e   = Splittings.compute_e(mesh1, rho)\n",
    "    push!(nrj, 0.5*log(sum(e.*e)*mesh1.step))\n",
    "    transpose!(fᵗ, f)\n",
    "    Splittings.advection!(fᵗ, mesh2, e, mesh1.length, dt, BSpline(5))\n",
    "    transpose!(f, fᵗ)\n",
    "end"
   ],
   "metadata": {},
   "execution_count": null
  },
  {
   "outputs": [],
   "cell_type": "code",
   "source": [
    "function landau(tf, nt)\n",
    "\n",
    "  n1, n2 = 32, 64\n",
    "  x1min, x1max = 0.0, 4π\n",
    "  x2min, x2max = -6., 6.\n",
    "  mesh1 = UniformMesh(x1min, x1max, n1; endpoint=false)\n",
    "  mesh2 = UniformMesh(x2min, x2max, n2; endpoint=false)\n",
    "  x = mesh1.points\n",
    "  v = mesh2.points\n",
    "\n",
    "  ϵ, kx = 0.001, 0.5\n",
    "  f = zeros(Complex{Float64},(n1,n2))\n",
    "  f .= (1.0.+ϵ*cos.(kx*x))/sqrt(2π) * transpose(exp.(-0.5*v.^2))\n",
    "  fᵗ = zeros(Complex{Float64},(n2,n1))\n",
    "\n",
    "  dt = tf / nt\n",
    "\n",
    "  nrj = Float64[]\n",
    "\n",
    "  for it in 1:nt\n",
    "      @Strang( push_t!(f, mesh1, v, n2, dt),\n",
    "               push_v!(f, fᵗ, mesh1, mesh2, nrj, dt))\n",
    "  end\n",
    "\n",
    "  nrj\n",
    "\n",
    "end"
   ],
   "metadata": {},
   "execution_count": null
  },
  {
   "outputs": [],
   "cell_type": "code",
   "source": [
    "nt = 500\n",
    "tf = 50.0\n",
    "t  = range(0.0, stop=tf, length=nt)\n",
    "@time nrj = landau(tf, nt)\n",
    "plot( t, nrj)\n",
    "plot!(t, -0.1533*t.-5.50)\n",
    "savefig(\"landau-plot.png\"); nothing # hide"
   ],
   "metadata": {},
   "execution_count": null
  },
  {
   "outputs": [],
   "cell_type": "markdown",
   "source": [
    "*This notebook was generated using [Literate.jl](https://github.com/fredrikekre/Literate.jl).*"
   ],
   "metadata": {}
  }
 ],
 "nbformat_minor": 3,
 "metadata": {
  "language_info": {
   "file_extension": ".jl",
   "mimetype": "application/julia",
   "name": "julia",
   "version": "1.0.2"
  },
  "kernelspec": {
   "name": "julia-1.0",
   "display_name": "Julia 1.0.2",
   "language": "julia"
  }
 },
 "nbformat": 4
}
