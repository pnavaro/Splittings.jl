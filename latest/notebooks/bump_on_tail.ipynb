{
 "cells": [
  {
   "outputs": [],
   "cell_type": "markdown",
   "source": [
    "# Bump On Tail"
   ],
   "metadata": {}
  },
  {
   "outputs": [],
   "cell_type": "code",
   "source": [
    "import Splittings: advection!, UniformMesh\n",
    "import Splittings: compute_rho, compute_e\n",
    "import Splittings: CubicSpline, @Strang\n",
    "\n",
    "using Plots\n",
    "using LaTeXStrings\n",
    "\n",
    "pyplot()"
   ],
   "metadata": {},
   "execution_count": null
  },
  {
   "outputs": [],
   "cell_type": "code",
   "source": [
    "function push_t!( f, mesh1, v, dt )\n",
    "\n",
    "    advection!( f, mesh1, v, 0.5dt, CubicSpline(), 1)\n",
    "\n",
    "end\n",
    "\n",
    "function push_v!( f, mesh1, mesh2, nrj, dt )\n",
    "\n",
    "    rho = compute_rho(mesh2, f)\n",
    "    e   = compute_e(mesh1, rho)\n",
    "    advection!( f, mesh2, e, dt, CubicSpline(), 2)\n",
    "    push!(nrj, 0.5*log(sum(e.*e)*mesh1.step))\n",
    "\n",
    "end\n",
    "\n",
    "function vlasov_poisson(mesh1  :: UniformMesh,\n",
    "                        mesh2  :: UniformMesh,\n",
    "                        f      :: Array{Float64,2},\n",
    "                        nstep  :: Int64,\n",
    "                        dt     :: Float64)\n",
    "\n",
    "    x = mesh1.points\n",
    "    v = mesh2.points\n",
    "\n",
    "    nrj = Float64[]\n",
    "    for istep in 1:nstep\n",
    "\n",
    "        @Strang(  push_t!( f, mesh1, v, dt ),\n",
    "                  push_v!( f, mesh1, mesh2, nrj, dt ))\n",
    "\n",
    "\n",
    "    end\n",
    "    nrj\n",
    "\n",
    "end"
   ],
   "metadata": {},
   "execution_count": null
  },
  {
   "outputs": [],
   "cell_type": "code",
   "source": [
    "α = 0.03\n",
    "kx  = 0.3\n",
    "x1min, x1max = 0.0, 2π / kx\n",
    "n1, n2 = 32, 64\n",
    "x2min, x2max = -9., 9.\n",
    "mesh1 = UniformMesh(x1min, x1max, n1)\n",
    "mesh2 = UniformMesh(x2min, x2max, n2)\n",
    "f = zeros(Float64,(mesh1.length,mesh2.length))\n",
    "for (i,x) in enumerate(mesh1.points), (j,v) in enumerate(mesh2.points)\n",
    "    f[i,j]  = (1.0+α*cos(kx*x)) / (10*sqrt(2π)) * (9*exp(-0.5*v^2)+2*exp(-2*(v-4.5)^2))\n",
    "end"
   ],
   "metadata": {},
   "execution_count": null
  },
  {
   "outputs": [],
   "cell_type": "code",
   "source": [
    "nstep = 500\n",
    "t = range(0.0, stop=50.0, length=nstep)\n",
    "dt = t[2]\n",
    "@elapsed nrj = vlasov_poisson( mesh1, mesh2, f, nstep, dt)"
   ],
   "metadata": {},
   "execution_count": null
  },
  {
   "outputs": [],
   "cell_type": "code",
   "source": [
    "plot(t, nrj, label=L\"\\frac{1}{2} \\log(∫e²dx)\")\n",
    "savefig(\"bot-plot.png\"); nothing # hide"
   ],
   "metadata": {},
   "execution_count": null
  },
  {
   "outputs": [],
   "cell_type": "markdown",
   "source": [
    "*This notebook was generated using [Literate.jl](https://github.com/fredrikekre/Literate.jl).*"
   ],
   "metadata": {}
  }
 ],
 "nbformat_minor": 3,
 "metadata": {
  "language_info": {
   "file_extension": ".jl",
   "mimetype": "application/julia",
   "name": "julia",
   "version": "1.0.1"
  },
  "kernelspec": {
   "name": "julia-1.0",
   "display_name": "Julia 1.0.1",
   "language": "julia"
  }
 },
 "nbformat": 4
}
