{
 "cells": [
  {
   "cell_type": "markdown",
   "metadata": {},
   "source": [
    "# Vlasov-Poisson \n",
    "\n",
    " We consider the dimensionless Vlasov-Poisson equation for one species\n",
    " with a neutralizing background.\n",
    "\n",
    "$$\n",
    " \\frac{∂f}{∂t}+ v⋅∇_x f + E(t,x) ⋅ ∇_v f = 0, \\\\\n",
    " - Δϕ = 1 - ρ, E = - ∇ ϕ \\\\\n",
    " ρ(t,x)  =  ∫ f(t,x,v)dv.\n",
    "$$\n",
    "\n",
    " - [Vlasov Equation - Wikipedia](https://en.wikipedia.org/wiki/Vlasov_equation)\n",
    " - [Landau damping - Wikipedia](https://en.wikipedia.org/wiki/Landau_damping)\n"
   ]
  },
  {
   "cell_type": "code",
   "execution_count": 1,
   "metadata": {},
   "outputs": [
    {
     "data": {
      "text/plain": [
       "Plots.PyPlotBackend()"
      ]
     },
     "execution_count": 1,
     "metadata": {},
     "output_type": "execute_result"
    }
   ],
   "source": [
    "using Plots, LinearAlgebra\n",
    "pyplot()"
   ]
  },
  {
   "cell_type": "code",
   "execution_count": 7,
   "metadata": {},
   "outputs": [],
   "source": [
    "using Splittings\n",
    "import Splittings:UniformMesh"
   ]
  },
  {
   "cell_type": "code",
   "execution_count": 8,
   "metadata": {},
   "outputs": [
    {
     "data": {
      "text/plain": [
       "push_x! (generic function with 1 method)"
      ]
     },
     "execution_count": 8,
     "metadata": {},
     "output_type": "execute_result"
    }
   ],
   "source": [
    "function push_x!(f::Array{Complex{Float64},2}, p::Int64, meshx::UniformMesh, \n",
    "        v::Vector{Float64}, nv::Int64, dt::Float64)\n",
    "    Splittings.advection!(f, p, meshx, v, nv, dt)\n",
    "end"
   ]
  },
  {
   "cell_type": "code",
   "execution_count": 9,
   "metadata": {},
   "outputs": [
    {
     "data": {
      "text/plain": [
       "push_v! (generic function with 1 method)"
      ]
     },
     "execution_count": 9,
     "metadata": {},
     "output_type": "execute_result"
    }
   ],
   "source": [
    "function push_v!(f::Array{Complex{Float64},2}, fᵗ::Array{Complex{Float64},2}, \n",
    "        p::Int64, meshx::UniformMesh, meshv::UniformMesh, \n",
    "        ρ::Vector{Complex{Float64}}, e::Vector{Complex{Float64}}, nx::Int64, dt::Float64)\n",
    "    \n",
    "    Splittings.compute_rho!(ρ, meshv, f)\n",
    "    Splittings.compute_e!(e, meshx, ρ)\n",
    "    transpose!(fᵗ, f)\n",
    "    Splittings.advection!(fᵗ, p, meshv, e, nx, dt)\n",
    "    transpose!(f, fᵗ)\n",
    "end  "
   ]
  },
  {
   "cell_type": "code",
   "execution_count": 10,
   "metadata": {},
   "outputs": [
    {
     "data": {
      "text/plain": [
       "landau (generic function with 1 method)"
      ]
     },
     "execution_count": 10,
     "metadata": {},
     "output_type": "execute_result"
    }
   ],
   "source": [
    "function landau(tf::Float64, nt::Int64)\n",
    "\n",
    "  # Set grid\n",
    "  p = 5\n",
    "  nx, nv = 128, 256\n",
    "  xmin, xmax = 0.0, 4π\n",
    "  vmin, vmax = -6., 6.\n",
    "  meshx = Splittings.UniformMesh(xmin, xmax, nx; endpoint=false)\n",
    "  meshv = Splittings.UniformMesh(vmin, vmax, nv; endpoint=false)\n",
    "  x = meshx.x\n",
    "  v = meshv.x\n",
    "  dx = meshx.dx\n",
    "\n",
    "  # Initialize distribution function for Landau damping.\n",
    "\n",
    "  eps, kx = 0.001, 0.5\n",
    "  f = zeros(Complex{Float64},(nx,nv))\n",
    "  f .= (1.0.+eps*cos.(kx*x))/sqrt(2.0*pi) * transpose(exp.(-0.5*v.^2))\n",
    "  fᵗ = zeros(Complex{Float64},(nv,nx))\n",
    "  e  = zeros(Complex{Float64}, nx)\n",
    "  ρ  = zeros(Complex{Float64}, nx)\n",
    "\n",
    "  # Set time domain\n",
    "  dt = tf / nt\n",
    "\n",
    "  # Run simulation\n",
    "  nrj = Float64[]\n",
    "\n",
    "  for it in 1:nt\n",
    "      push_x!(f, p, meshx, v, nv, 0.5dt)\n",
    "      push_v!(f, fᵗ, p, meshx, meshv, ρ, e, nx, dt)\n",
    "      push_x!(f, p, meshx, v, nv, 0.5dt)\n",
    "      push!(nrj, 0.5*log(sum(e.*e)*dx))\n",
    "  end\n",
    "\n",
    "  nrj\n",
    "\n",
    "end"
   ]
  },
  {
   "cell_type": "code",
   "execution_count": 11,
   "metadata": {},
   "outputs": [
    {
     "ename": "MethodError",
     "evalue": "MethodError: no method matching advection!(::Array{Complex{Float64},2}, ::Int64, ::UniformMesh, ::Array{Complex{Float64},1}, ::Int64, ::Float64)\nClosest candidates are:\n  advection!(::Array{Complex{Float64},2}, ::Int64, ::UniformMesh, !Matched::Array{Float64,1}, ::Int64, ::Float64) at /Users/navaro/.julia/packages/Splittings/6edSr/src/bsl.jl:134\n  advection!(::Array{Complex{Float64},2}, !Matched::UniformMesh, ::UniformMesh, ::Any, !Matched::Float64) at /Users/navaro/.julia/packages/Splittings/6edSr/src/fft.jl:16\n  advection!(::Array{Complex{Float64},2}, !Matched::UniformMesh, ::UniformMesh, !Matched::Float64) at /Users/navaro/.julia/packages/Splittings/6edSr/src/fft.jl:42\n  ...",
     "output_type": "error",
     "traceback": [
      "MethodError: no method matching advection!(::Array{Complex{Float64},2}, ::Int64, ::UniformMesh, ::Array{Complex{Float64},1}, ::Int64, ::Float64)\nClosest candidates are:\n  advection!(::Array{Complex{Float64},2}, ::Int64, ::UniformMesh, !Matched::Array{Float64,1}, ::Int64, ::Float64) at /Users/navaro/.julia/packages/Splittings/6edSr/src/bsl.jl:134\n  advection!(::Array{Complex{Float64},2}, !Matched::UniformMesh, ::UniformMesh, ::Any, !Matched::Float64) at /Users/navaro/.julia/packages/Splittings/6edSr/src/fft.jl:16\n  advection!(::Array{Complex{Float64},2}, !Matched::UniformMesh, ::UniformMesh, !Matched::Float64) at /Users/navaro/.julia/packages/Splittings/6edSr/src/fft.jl:42\n  ...",
      "",
      "Stacktrace:",
      " [1] push_v!(::Array{Complex{Float64},2}, ::Array{Complex{Float64},2}, ::Int64, ::UniformMesh, ::UniformMesh, ::Array{Complex{Float64},1}, ::Array{Complex{Float64},1}, ::Int64, ::Float64) at ./In[9]:8",
      " [2] landau(::Float64, ::Int64) at ./In[10]:31",
      " [3] top-level scope at util.jl:156",
      " [4] top-level scope at In[11]:4"
     ]
    }
   ],
   "source": [
    "nt = 1500\n",
    "tf = 150.0\n",
    "t  = range(0.0, stop=tf, length=nt)\n",
    "@time nrj = landau(tf, nt)\n",
    "plot( t, nrj)\n",
    "plot!(t, -0.1533*t.-5.50)"
   ]
  },
  {
   "cell_type": "code",
   "execution_count": null,
   "metadata": {},
   "outputs": [],
   "source": []
  }
 ],
 "metadata": {
  "kernelspec": {
   "display_name": "Julia 1.0.1",
   "language": "julia",
   "name": "julia-1.0"
  },
  "language_info": {
   "file_extension": ".jl",
   "mimetype": "application/julia",
   "name": "julia",
   "version": "1.0.1"
  }
 },
 "nbformat": 4,
 "nbformat_minor": 2
}
