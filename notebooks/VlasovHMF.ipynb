{
 "cells": [
  {
   "cell_type": "code",
   "execution_count": 3,
   "metadata": {},
   "outputs": [
    {
     "name": "stdout",
     "output_type": "stream",
     "text": [
      "\u001b[32m\u001b[1m  Updating\u001b[22m\u001b[39m git-repo `https://github.com/pnavaro/Splittings.jl.git`\n",
      "\u001b[?25l\u001b[2K"
     ]
    },
    {
     "name": "stderr",
     "output_type": "stream",
     "text": [
      "┌ Warning: Pkg.clone is only kept for legacy CI script reasons, please use `add`\n",
      "└ @ Pkg.API /Users/osx/buildbot/slave/package_osx64/build/usr/share/julia/stdlib/v1.0/Pkg/src/API.jl:463\n"
     ]
    },
    {
     "name": "stdout",
     "output_type": "stream",
     "text": [
      "\u001b[?25h\u001b[32m\u001b[1m Resolving\u001b[22m\u001b[39m package versions...\n"
     ]
    },
    {
     "name": "stderr",
     "output_type": "stream",
     "text": [
      "┌ Info: Path `/Users/navaro/.julia/dev/Splittings` exists and looks like the correct package, using existing path instead of cloning\n",
      "└ @ Pkg.Types /Users/osx/buildbot/slave/package_osx64/build/usr/share/julia/stdlib/v1.0/Pkg/src/Types.jl:586\n"
     ]
    },
    {
     "name": "stdout",
     "output_type": "stream",
     "text": [
      "\u001b[32m\u001b[1m  Updating\u001b[22m\u001b[39m `~/.julia/environments/v1.0/Project.toml`\n",
      "\u001b[90m [no changes]\u001b[39m\n",
      "\u001b[32m\u001b[1m  Updating\u001b[22m\u001b[39m `~/.julia/environments/v1.0/Manifest.toml`\n",
      "\u001b[90m [no changes]\u001b[39m\n"
     ]
    }
   ],
   "source": [
    "using Pkg\n",
    "Pkg.clone(\"https://github.com/pnavaro/Splittings.jl.git\")"
   ]
  },
  {
   "cell_type": "code",
   "execution_count": 4,
   "metadata": {},
   "outputs": [],
   "source": [
    "using LinearAlgebra, QuadGK, Roots, FFTW, BenchmarkTools"
   ]
  },
  {
   "cell_type": "code",
   "execution_count": 14,
   "metadata": {},
   "outputs": [],
   "source": [
    "using Splittings"
   ]
  },
  {
   "cell_type": "code",
   "execution_count": 15,
   "metadata": {},
   "outputs": [
    {
     "data": {
      "text/plain": [
       "Plots.PyPlotBackend()"
      ]
     },
     "execution_count": 15,
     "metadata": {},
     "output_type": "execute_result"
    }
   ],
   "source": [
    "using Plots\n",
    "pyplot()"
   ]
  },
  {
   "cell_type": "code",
   "execution_count": 16,
   "metadata": {},
   "outputs": [
    {
     "data": {
      "text/plain": [
       "mag"
      ]
     },
     "execution_count": 16,
     "metadata": {},
     "output_type": "execute_result"
    }
   ],
   "source": [
    "\" Compute M₀ by solving F(m) = 0 \"\n",
    "function mag(β, mass)\n",
    "    \n",
    "    F(m) = begin\n",
    "        g(x, n, m) = (1 / π) * (exp(β * m * cos(x)) * cos(n * x))\n",
    "        bessel0(x) = g(x, 0, m) \n",
    "        bessel1(x) = g(x, 1, m)\n",
    "        mass * quadgk(bessel1, 0, π)[1] / quadgk(bessel0, 0, π)[1] - m\n",
    "    end\n",
    "    \n",
    "    find_zero(F, (0, mass))\n",
    "end"
   ]
  },
  {
   "cell_type": "code",
   "execution_count": 17,
   "metadata": {},
   "outputs": [
    {
     "data": {
      "text/plain": [
       "Norm (generic function with 1 method)"
      ]
     },
     "execution_count": 17,
     "metadata": {},
     "output_type": "execute_result"
    }
   ],
   "source": [
    "function Norm(f::Array{Float64,2}, dx, dv)\n",
    "   return dx * sum(dv * sum(real(f), dims=1))\n",
    "end"
   ]
  },
  {
   "cell_type": "code",
   "execution_count": 18,
   "metadata": {},
   "outputs": [
    {
     "data": {
      "text/plain": [
       "hmf_poisson!"
      ]
     },
     "execution_count": 18,
     "metadata": {},
     "output_type": "execute_result"
    }
   ],
   "source": [
    "\"\"\"\n",
    "    Compute the electric hamiltonian mean field from a \n",
    "    2D distribution function\n",
    "\"\"\"\n",
    "function hmf_poisson!(fᵗ::Array{Complex{Float64},2}, \n",
    "        meshx::UniformMesh, \n",
    "        meshv::UniformMesh,\n",
    "        ex::Array{Float64})\n",
    "\n",
    "    nx = meshx.nx\n",
    "    rho = meshv.dx .* vec(sum(fᵗ, dims=1))\n",
    "    kernel = zeros(Float64, nx)\n",
    "    k = π / (meshx.xmax - meshx.xmin)\n",
    "    kernel[2] = k\n",
    "    ex .= real(ifft(1im * fft(rho) .* kernel * 4π ))\n",
    "\n",
    "end"
   ]
  },
  {
   "cell_type": "code",
   "execution_count": 19,
   "metadata": {},
   "outputs": [
    {
     "data": {
      "text/plain": [
       "bsl_advection! (generic function with 1 method)"
      ]
     },
     "execution_count": 19,
     "metadata": {},
     "output_type": "execute_result"
    }
   ],
   "source": [
    "function bsl_advection!(f::Array{Complex{Float64},2},\n",
    "                        meshx::UniformMesh, \n",
    "                        meshv::UniformMesh,\n",
    "                        v::Array{Float64,1},\n",
    "                        dt;\n",
    "                        spline_degree=3)\n",
    "    \n",
    "    fft!(f,1)\n",
    "    @simd for j in 1:meshv.nx\n",
    "        alpha = v[j] * dt\n",
    "        @inbounds f[:,j] .= Splittings.interpolate(spline_degree, f[:,j], \n",
    "            meshx.dx, alpha)\n",
    "    end\n",
    "    ifft!(f,1)\n",
    "end"
   ]
  },
  {
   "cell_type": "code",
   "execution_count": 21,
   "metadata": {},
   "outputs": [
    {
     "data": {
      "text/plain": [
       "push_v! (generic function with 1 method)"
      ]
     },
     "execution_count": 21,
     "metadata": {},
     "output_type": "execute_result"
    }
   ],
   "source": [
    "function push_v!(f, fᵗ, meshx, meshv, ex, dt)\n",
    "    transpose!(fᵗ, f)\n",
    "    hmf_poisson!(fᵗ, meshx, meshv, ex)\n",
    "    bsl_advection!(fᵗ, meshv, meshx, ex, dt)\n",
    "    transpose!(f, fᵗ)\n",
    "end"
   ]
  },
  {
   "cell_type": "code",
   "execution_count": 24,
   "metadata": {},
   "outputs": [
    {
     "data": {
      "text/plain": [
       "vlasov_hmf_gauss (generic function with 3 methods)"
      ]
     },
     "execution_count": 24,
     "metadata": {},
     "output_type": "execute_result"
    }
   ],
   "source": [
    "function vlasov_hmf_gauss(nbiter = 10000, dt = 0.1)\n",
    "\n",
    "    mass = 1.0\n",
    "    T = 0.1\n",
    "    meshx = UniformMesh(-π, π, 64)\n",
    "    meshv = UniformMesh(-8, 8, 64)\n",
    "    \n",
    "    nx, dx = meshx.nx, meshx.dx\n",
    "    nv, dv = meshv.nx, meshv.dx\n",
    "    x, v = meshx.x, meshv.x\n",
    "    X = repeat(x,1,nv)\n",
    "    V = repeat(v,1,nx)'\n",
    "    ϵ = 0.1\n",
    "    \n",
    "    b = 1 / T\n",
    "    m = mag(b, mass)\n",
    "   \n",
    "    w   = sqrt(m)\n",
    "    f   = zeros(Complex{Float64}, (nx,nv))\n",
    "    fᵗ  = zeros(Complex{Float64}, (nv,nx))\n",
    "    \n",
    "    f  .= exp.(-b .* ((V.^2 / 2) - m * cos.(X)))\n",
    "    a   = mass / Norm(real(f), dx, dv)\n",
    "    @.  f =  a * exp(-b * (((V^2) / 2) - m * cos(X))) * (1 + ϵ * cos(X))\n",
    "    \n",
    "    ex = zeros(Float64,nx)\n",
    "    hmf_poisson!(f, meshx, meshv, ex )\n",
    "    test = copy(f)\n",
    "    T = Float64[]\n",
    "    for n in 1:nbiter\n",
    "    \n",
    "        gamma1 = Norm(real(f) .* cos.(X), dx, dv)\n",
    "        push!(T,gamma1)\n",
    "    \n",
    "        @Strang(\n",
    "            bsl_advection!(f, meshx, meshv, v, dt),\n",
    "            push_v!(f, fᵗ, meshx, meshv, ex, dt)\n",
    "        )\n",
    "    \n",
    "    end\n",
    "    \n",
    "    #Substracting from gamma its long time average\n",
    "    \n",
    "    Gamma1 = Norm(real(f) .*cos.(X), dx, dv)\n",
    "    T .= T .- Gamma1\n",
    "    \n",
    "    range(0., stop=nbiter*deltat, length=nbiter), abs.(T)\n",
    "    \n",
    "end "
   ]
  },
  {
   "cell_type": "code",
   "execution_count": 27,
   "metadata": {},
   "outputs": [
    {
     "name": "stdout",
     "output_type": "stream",
     "text": [
      "  4.121293 seconds (3.49 M allocations: 2.324 GiB, 4.69% gc time)\n"
     ]
    }
   ],
   "source": [
    "nbiter = 2000\n",
    "deltat = 0.1\n",
    "@time t, T = vlasov_hmf_gauss(nbiter, deltat);"
   ]
  },
  {
   "cell_type": "code",
   "execution_count": 28,
   "metadata": {},
   "outputs": [
    {
     "data": {
      "image/png": "[encoded data removed]"
     },
     "execution_count": 28,
     "metadata": {},
     "output_type": "execute_result"
    }
   ],
   "source": [
    "plot(t, log.(T), \n",
    "    xlabel = \"t\",\n",
    "    ylabel = \"|C[f](t)-C[f][T]|\")"
   ]
  }
 ],
 "metadata": {
  "kernelspec": {
   "display_name": "Julia 1.0.1",
   "language": "julia",
   "name": "julia-1.0"
  },
  "language_info": {
   "file_extension": ".jl",
   "mimetype": "application/julia",
   "name": "julia",
   "version": "1.0.1"
  }
 },
 "nbformat": 4,
 "nbformat_minor": 2
}
